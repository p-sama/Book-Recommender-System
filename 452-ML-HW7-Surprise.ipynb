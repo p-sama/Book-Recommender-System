{
 "cells": [
  {
   "cell_type": "markdown",
   "metadata": {},
   "source": [
    "# 452 - Machine Learning - HW7 - Books Recommender System"
   ]
  },
  {
   "cell_type": "markdown",
   "metadata": {
    "toc": true
   },
   "source": [
    "<h1>Table of Contents<span class=\"tocSkip\"></span></h1>\n",
    "<div class=\"toc\"><ul class=\"toc-item\"><li><span><a href=\"#Overview\" data-toc-modified-id=\"Overview-1\"><span class=\"toc-item-num\">1&nbsp;&nbsp;</span>Overview</a></span></li><li><span><a href=\"#Importing-packages-and-data\" data-toc-modified-id=\"Importing-packages-and-data-2\"><span class=\"toc-item-num\">2&nbsp;&nbsp;</span>Importing packages and data</a></span></li><li><span><a href=\"#Exploratory-Data-Analyses\" data-toc-modified-id=\"Exploratory-Data-Analyses-3\"><span class=\"toc-item-num\">3&nbsp;&nbsp;</span>Exploratory Data Analyses</a></span></li><li><span><a href=\"#Building-the-Recommender-system\" data-toc-modified-id=\"Building-the-Recommender-system-4\"><span class=\"toc-item-num\">4&nbsp;&nbsp;</span>Building the Recommender system</a></span></li></ul></div>"
   ]
  },
  {
   "cell_type": "markdown",
   "metadata": {},
   "source": [
    "### Overview"
   ]
  },
  {
   "cell_type": "markdown",
   "metadata": {},
   "source": [
    "The task is to create a Recommendation system for Books based on user ratings. This system will be built using the Surprise package from sci-kit library which is based on collaborative filtering.\n",
    "\n",
    "Book-Crossings is a book ratings dataset compiled by Cai-Nicolas Ziegler based on data from bookcrossing.com. It contains 1.1 million ratings of 270,000 books by 90,000 users. The ratings are on a scale from 1 to 10, and implicit ratings are also included.\n",
    "\n",
    "The dataset consists of 3 files -\n",
    "- User Ratings for Books\n",
    "- Book details\n",
    "- User details"
   ]
  },
  {
   "cell_type": "markdown",
   "metadata": {},
   "source": [
    "### Importing packages and data"
   ]
  },
  {
   "cell_type": "code",
   "execution_count": 29,
   "metadata": {
    "collapsed": true
   },
   "outputs": [],
   "source": [
    "# For data loading and manipulation\n",
    "import pandas as pd\n",
    "import numpy as np\n",
    "\n",
    "# For visulaization\n",
    "import matplotlib.pyplot as plt\n",
    "import seaborn as sns\n",
    "%matplotlib inline\n",
    "\n",
    "# For building the recommender system\n",
    "from surprise import Reader, Dataset, SVD, SVDpp, evaluate"
   ]
  },
  {
   "cell_type": "code",
   "execution_count": 6,
   "metadata": {},
   "outputs": [
    {
     "name": "stdout",
     "output_type": "stream",
     "text": [
      "<class 'pandas.core.frame.DataFrame'>\n",
      "RangeIndex: 1149780 entries, 0 to 1149779\n",
      "Data columns (total 3 columns):\n",
      "UserID    1149780 non-null int64\n",
      "ISBN      1149780 non-null object\n",
      "Rating    1149780 non-null int64\n",
      "dtypes: int64(2), object(1)\n",
      "memory usage: 26.3+ MB\n",
      "None\n",
      "   UserID        ISBN  Rating\n",
      "0  276725  034545104X       0\n",
      "1  276726  0155061224       5\n",
      "2  276727  0446520802       0\n",
      "3  276729  052165615X       3\n",
      "4  276729  0521795028       6\n"
     ]
    }
   ],
   "source": [
    "# Reading the Book Ratings dataset\n",
    "ratings = pd.read_csv('BX-Book-Ratings.csv', sep=';', error_bad_lines=False, encoding=\"latin-1\")\n",
    "ratings.columns = ['UserID', 'ISBN', 'Rating']\n",
    "print(ratings.info())\n",
    "print(ratings.head())"
   ]
  },
  {
   "cell_type": "code",
   "execution_count": 7,
   "metadata": {},
   "outputs": [
    {
     "name": "stderr",
     "output_type": "stream",
     "text": [
      "b'Skipping line 6452: expected 8 fields, saw 9\\nSkipping line 43667: expected 8 fields, saw 10\\nSkipping line 51751: expected 8 fields, saw 9\\n'\n",
      "b'Skipping line 92038: expected 8 fields, saw 9\\nSkipping line 104319: expected 8 fields, saw 9\\nSkipping line 121768: expected 8 fields, saw 9\\n'\n",
      "b'Skipping line 144058: expected 8 fields, saw 9\\nSkipping line 150789: expected 8 fields, saw 9\\nSkipping line 157128: expected 8 fields, saw 9\\nSkipping line 180189: expected 8 fields, saw 9\\nSkipping line 185738: expected 8 fields, saw 9\\n'\n",
      "b'Skipping line 209388: expected 8 fields, saw 9\\nSkipping line 220626: expected 8 fields, saw 9\\nSkipping line 227933: expected 8 fields, saw 11\\nSkipping line 228957: expected 8 fields, saw 10\\nSkipping line 245933: expected 8 fields, saw 9\\nSkipping line 251296: expected 8 fields, saw 9\\nSkipping line 259941: expected 8 fields, saw 9\\nSkipping line 261529: expected 8 fields, saw 9\\n'\n",
      "/anaconda/lib/python3.6/site-packages/IPython/core/interactiveshell.py:2717: DtypeWarning: Columns (3) have mixed types. Specify dtype option on import or set low_memory=False.\n",
      "  interactivity=interactivity, compiler=compiler, result=result)\n"
     ]
    },
    {
     "name": "stdout",
     "output_type": "stream",
     "text": [
      "<class 'pandas.core.frame.DataFrame'>\n",
      "RangeIndex: 271360 entries, 0 to 271359\n",
      "Data columns (total 8 columns):\n",
      "ISBN               271360 non-null object\n",
      "Title              271360 non-null object\n",
      "Author             271360 non-null object\n",
      "YrOfPublication    271360 non-null object\n",
      "Publisher          271358 non-null object\n",
      "ImageUrlS          271360 non-null object\n",
      "ImageUrlM          271360 non-null object\n",
      "ImageUrlL          271357 non-null object\n",
      "dtypes: object(8)\n",
      "memory usage: 16.6+ MB\n",
      "None\n",
      "         ISBN                                              Title  \\\n",
      "0  0195153448                                Classical Mythology   \n",
      "1  0002005018                                       Clara Callan   \n",
      "2  0060973129                               Decision in Normandy   \n",
      "3  0374157065  Flu: The Story of the Great Influenza Pandemic...   \n",
      "4  0393045218                             The Mummies of Urumchi   \n",
      "\n",
      "                 Author YrOfPublication                   Publisher  \\\n",
      "0    Mark P. O. Morford            2002     Oxford University Press   \n",
      "1  Richard Bruce Wright            2001       HarperFlamingo Canada   \n",
      "2          Carlo D'Este            1991             HarperPerennial   \n",
      "3      Gina Bari Kolata            1999        Farrar Straus Giroux   \n",
      "4       E. J. W. Barber            1999  W. W. Norton &amp; Company   \n",
      "\n",
      "                                           ImageUrlS  \\\n",
      "0  http://images.amazon.com/images/P/0195153448.0...   \n",
      "1  http://images.amazon.com/images/P/0002005018.0...   \n",
      "2  http://images.amazon.com/images/P/0060973129.0...   \n",
      "3  http://images.amazon.com/images/P/0374157065.0...   \n",
      "4  http://images.amazon.com/images/P/0393045218.0...   \n",
      "\n",
      "                                           ImageUrlM  \\\n",
      "0  http://images.amazon.com/images/P/0195153448.0...   \n",
      "1  http://images.amazon.com/images/P/0002005018.0...   \n",
      "2  http://images.amazon.com/images/P/0060973129.0...   \n",
      "3  http://images.amazon.com/images/P/0374157065.0...   \n",
      "4  http://images.amazon.com/images/P/0393045218.0...   \n",
      "\n",
      "                                           ImageUrlL  \n",
      "0  http://images.amazon.com/images/P/0195153448.0...  \n",
      "1  http://images.amazon.com/images/P/0002005018.0...  \n",
      "2  http://images.amazon.com/images/P/0060973129.0...  \n",
      "3  http://images.amazon.com/images/P/0374157065.0...  \n",
      "4  http://images.amazon.com/images/P/0393045218.0...  \n"
     ]
    }
   ],
   "source": [
    "# Reading the books dataset for details on each ISBN\n",
    "books = pd.read_csv('BX-Books.csv', sep=';', error_bad_lines=False, encoding=\"latin-1\")\n",
    "books.columns = ['ISBN', 'Title', 'Author', 'YrOfPublication', 'Publisher', 'ImageUrlS', 'ImageUrlM', 'ImageUrlL']\n",
    "print(books.info())\n",
    "print(books.head())"
   ]
  },
  {
   "cell_type": "code",
   "execution_count": 8,
   "metadata": {},
   "outputs": [
    {
     "name": "stdout",
     "output_type": "stream",
     "text": [
      "<class 'pandas.core.frame.DataFrame'>\n",
      "RangeIndex: 278858 entries, 0 to 278857\n",
      "Data columns (total 3 columns):\n",
      "UserID      278858 non-null int64\n",
      "Location    278858 non-null object\n",
      "Age         168096 non-null float64\n",
      "dtypes: float64(1), int64(1), object(1)\n",
      "memory usage: 6.4+ MB\n",
      "None\n",
      "   UserID                            Location   Age\n",
      "0       1                  nyc, new york, usa   NaN\n",
      "1       2           stockton, california, usa  18.0\n",
      "2       3     moscow, yukon territory, russia   NaN\n",
      "3       4           porto, v.n.gaia, portugal  17.0\n",
      "4       5  farnborough, hants, united kingdom   NaN\n"
     ]
    }
   ],
   "source": [
    "# Reading the users dataset for information about each user\n",
    "users = pd.read_csv('BX-Users.csv', sep=';', error_bad_lines=False, encoding=\"latin-1\")\n",
    "users.columns = ['UserID', 'Location', 'Age']\n",
    "print(users.info())\n",
    "print(users.head())"
   ]
  },
  {
   "cell_type": "markdown",
   "metadata": {},
   "source": [
    "### Exploratory Data Analyses"
   ]
  },
  {
   "cell_type": "code",
   "execution_count": 9,
   "metadata": {},
   "outputs": [
    {
     "data": {
      "text/plain": [
       "<matplotlib.text.Text at 0x1a1ad6b390>"
      ]
     },
     "execution_count": 9,
     "metadata": {},
     "output_type": "execute_result"
    },
    {
     "data": {
      "image/png": "[encoded data removed]",
      "text/plain": [
       "<matplotlib.figure.Figure at 0x1a18be4278>"
      ]
     },
     "metadata": {},
     "output_type": "display_data"
    }
   ],
   "source": [
    "# Check the overall distribution of the ratings\n",
    "sns.set(style = \"whitegrid\", font_scale=1.4)\n",
    "plt.subplots(figsize = (15,8))\n",
    "sns.countplot(\"Rating\", data=ratings).set_title(\"# of Records per Rating\")"
   ]
  },
  {
   "cell_type": "code",
   "execution_count": 10,
   "metadata": {},
   "outputs": [
    {
     "data": {
      "text/plain": [
       "<matplotlib.text.Text at 0x1a1bacc470>"
      ]
     },
     "execution_count": 10,
     "metadata": {},
     "output_type": "execute_result"
    },
    {
     "data": {
      "image/png": "[encoded data removed]",
      "text/plain": [
       "<matplotlib.figure.Figure at 0x116a14c88>"
      ]
     },
     "metadata": {},
     "output_type": "display_data"
    }
   ],
   "source": [
    "# Check the distribution of the Age of the users\n",
    "users_nonan = users.dropna(axis=0, how='any')\n",
    "plt.subplots(figsize = (15,8))\n",
    "sns.distplot(users_nonan[(users_nonan['Age'] <= 100)]['Age']).set_title(\"Age Distribution of users\")"
   ]
  },
  {
   "cell_type": "code",
   "execution_count": 11,
   "metadata": {},
   "outputs": [
    {
     "data": {
      "text/plain": [
       "<matplotlib.text.Text at 0x1a19097860>"
      ]
     },
     "execution_count": 11,
     "metadata": {},
     "output_type": "execute_result"
    },
    {
     "data": {
      "image/png": "[encoded data removed]",
      "text/plain": [
       "<matplotlib.figure.Figure at 0x1a1b304358>"
      ]
     },
     "metadata": {},
     "output_type": "display_data"
    }
   ],
   "source": [
    "# Let's check the mean ratings for each book (remove the bad ones with 0) and how is that distributed\n",
    "plt.subplots(figsize = (15,8))\n",
    "ratings[(ratings['Rating']>=1)].groupby('ISBN')['Rating'].mean().hist(color='teal', alpha=0.7, bins=25).set_title(\"Distribution of Mean Ratings for books\")"
   ]
  },
  {
   "cell_type": "code",
   "execution_count": 12,
   "metadata": {},
   "outputs": [
    {
     "data": {
      "text/plain": [
       "<matplotlib.text.Text at 0x1a1c8e9ef0>"
      ]
     },
     "execution_count": 12,
     "metadata": {},
     "output_type": "execute_result"
    },
    {
     "data": {
      "image/png": "[encoded data removed]",
      "text/plain": [
       "<matplotlib.figure.Figure at 0x1a1b667b00>"
      ]
     },
     "metadata": {},
     "output_type": "display_data"
    }
   ],
   "source": [
    "# Let's check the mean ratings for each book (remove the bad ones with 0) and how is that distributed\n",
    "plt.subplots(figsize = (15,8))\n",
    "ratings[(ratings['Rating']>=1)].groupby('UserID')['Rating'].mean().hist(color='pink', alpha=0.7, bins=25).set_title(\"Distribution of Mean Ratings for Users\")"
   ]
  },
  {
   "cell_type": "code",
   "execution_count": 13,
   "metadata": {},
   "outputs": [
    {
     "data": {
      "text/html": [
       "<div>\n",
       "<style>\n",
       "    .dataframe thead tr:only-child th {\n",
       "        text-align: right;\n",
       "    }\n",
       "\n",
       "    .dataframe thead th {\n",
       "        text-align: left;\n",
       "    }\n",
       "\n",
       "    .dataframe tbody tr th {\n",
       "        vertical-align: top;\n",
       "    }\n",
       "</style>\n",
       "<table border=\"1\" class=\"dataframe\">\n",
       "  <thead>\n",
       "    <tr style=\"text-align: right;\">\n",
       "      <th></th>\n",
       "      <th>ISBN</th>\n",
       "      <th>NumberOfRatings</th>\n",
       "      <th>AverageRating</th>\n",
       "    </tr>\n",
       "  </thead>\n",
       "  <tbody>\n",
       "    <tr>\n",
       "      <th>0</th>\n",
       "      <td>0330299891</td>\n",
       "      <td>2</td>\n",
       "      <td>3.0</td>\n",
       "    </tr>\n",
       "    <tr>\n",
       "      <th>1</th>\n",
       "      <td>0375404120</td>\n",
       "      <td>2</td>\n",
       "      <td>1.5</td>\n",
       "    </tr>\n",
       "    <tr>\n",
       "      <th>2</th>\n",
       "      <td>0586045007</td>\n",
       "      <td>1</td>\n",
       "      <td>0.0</td>\n",
       "    </tr>\n",
       "    <tr>\n",
       "      <th>3</th>\n",
       "      <td>9022906116</td>\n",
       "      <td>2</td>\n",
       "      <td>3.5</td>\n",
       "    </tr>\n",
       "    <tr>\n",
       "      <th>4</th>\n",
       "      <td>9032803328</td>\n",
       "      <td>1</td>\n",
       "      <td>0.0</td>\n",
       "    </tr>\n",
       "  </tbody>\n",
       "</table>\n",
       "</div>"
      ],
      "text/plain": [
       "          ISBN  NumberOfRatings  AverageRating\n",
       "0   0330299891                2            3.0\n",
       "1   0375404120                2            1.5\n",
       "2   0586045007                1            0.0\n",
       "3   9022906116                2            3.5\n",
       "4   9032803328                1            0.0"
      ]
     },
     "execution_count": 13,
     "metadata": {},
     "output_type": "execute_result"
    }
   ],
   "source": [
    "# Let us check if there is a correlation between number of rating and average rating of a book\n",
    "isbn_df = ratings.groupby('ISBN', as_index=False).agg({'UserID':'count','Rating':'mean'})\n",
    "isbn_df.columns = ['ISBN', 'NumberOfRatings','AverageRating']\n",
    "isbn_df.head()"
   ]
  },
  {
   "cell_type": "code",
   "execution_count": 15,
   "metadata": {},
   "outputs": [
    {
     "data": {
      "text/plain": [
       "<matplotlib.text.Text at 0x1a18ca6e10>"
      ]
     },
     "execution_count": 15,
     "metadata": {},
     "output_type": "execute_result"
    },
    {
     "data": {
      "image/png": "[encoded data removed]",
      "text/plain": [
       "<matplotlib.figure.Figure at 0x1a18d26550>"
      ]
     },
     "metadata": {},
     "output_type": "display_data"
    }
   ],
   "source": [
    "plt.subplots(figsize = (15,8))\n",
    "sns.regplot(x=\"NumberOfRatings\", y=\"AverageRating\", data=isbn_df).set_title(\"Avg Rating vs. Number of Ratings\")"
   ]
  },
  {
   "cell_type": "markdown",
   "metadata": {},
   "source": [
    "Let us check the books which are extreme points above and have more than 1000 ratings yet not a great average rating."
   ]
  },
  {
   "cell_type": "code",
   "execution_count": 18,
   "metadata": {},
   "outputs": [
    {
     "data": {
      "text/html": [
       "<div>\n",
       "<style>\n",
       "    .dataframe thead tr:only-child th {\n",
       "        text-align: right;\n",
       "    }\n",
       "\n",
       "    .dataframe thead th {\n",
       "        text-align: left;\n",
       "    }\n",
       "\n",
       "    .dataframe tbody tr th {\n",
       "        vertical-align: top;\n",
       "    }\n",
       "</style>\n",
       "<table border=\"1\" class=\"dataframe\">\n",
       "  <thead>\n",
       "    <tr style=\"text-align: right;\">\n",
       "      <th></th>\n",
       "      <th>ISBN</th>\n",
       "      <th>Title</th>\n",
       "      <th>Author</th>\n",
       "      <th>YrOfPublication</th>\n",
       "      <th>Publisher</th>\n",
       "      <th>ImageUrlS</th>\n",
       "      <th>ImageUrlM</th>\n",
       "      <th>ImageUrlL</th>\n",
       "    </tr>\n",
       "  </thead>\n",
       "  <tbody>\n",
       "    <tr>\n",
       "      <th>26</th>\n",
       "      <td>0971880107</td>\n",
       "      <td>Wild Animus</td>\n",
       "      <td>Rich Shapero</td>\n",
       "      <td>2004</td>\n",
       "      <td>Too Far</td>\n",
       "      <td>http://images.amazon.com/images/P/0971880107.0...</td>\n",
       "      <td>http://images.amazon.com/images/P/0971880107.0...</td>\n",
       "      <td>http://images.amazon.com/images/P/0971880107.0...</td>\n",
       "    </tr>\n",
       "    <tr>\n",
       "      <th>408</th>\n",
       "      <td>0316666343</td>\n",
       "      <td>The Lovely Bones: A Novel</td>\n",
       "      <td>Alice Sebold</td>\n",
       "      <td>2002</td>\n",
       "      <td>Little, Brown</td>\n",
       "      <td>http://images.amazon.com/images/P/0316666343.0...</td>\n",
       "      <td>http://images.amazon.com/images/P/0316666343.0...</td>\n",
       "      <td>http://images.amazon.com/images/P/0316666343.0...</td>\n",
       "    </tr>\n",
       "  </tbody>\n",
       "</table>\n",
       "</div>"
      ],
      "text/plain": [
       "           ISBN                      Title        Author YrOfPublication  \\\n",
       "26   0971880107                Wild Animus  Rich Shapero            2004   \n",
       "408  0316666343  The Lovely Bones: A Novel  Alice Sebold            2002   \n",
       "\n",
       "         Publisher                                          ImageUrlS  \\\n",
       "26         Too Far  http://images.amazon.com/images/P/0971880107.0...   \n",
       "408  Little, Brown  http://images.amazon.com/images/P/0316666343.0...   \n",
       "\n",
       "                                             ImageUrlM  \\\n",
       "26   http://images.amazon.com/images/P/0971880107.0...   \n",
       "408  http://images.amazon.com/images/P/0316666343.0...   \n",
       "\n",
       "                                             ImageUrlL  \n",
       "26   http://images.amazon.com/images/P/0971880107.0...  \n",
       "408  http://images.amazon.com/images/P/0316666343.0...  "
      ]
     },
     "execution_count": 18,
     "metadata": {},
     "output_type": "execute_result"
    }
   ],
   "source": [
    "# Filtering out the ISBNs and getting info from the books dataset\n",
    "extrm_isbn = isbn_df[(isbn_df['NumberOfRatings']>1000)]['ISBN']\n",
    "books[books['ISBN'].isin(extrm_isbn)]"
   ]
  },
  {
   "cell_type": "code",
   "execution_count": 19,
   "metadata": {},
   "outputs": [
    {
     "data": {
      "text/html": [
       "<div>\n",
       "<style>\n",
       "    .dataframe thead tr:only-child th {\n",
       "        text-align: right;\n",
       "    }\n",
       "\n",
       "    .dataframe thead th {\n",
       "        text-align: left;\n",
       "    }\n",
       "\n",
       "    .dataframe tbody tr th {\n",
       "        vertical-align: top;\n",
       "    }\n",
       "</style>\n",
       "<table border=\"1\" class=\"dataframe\">\n",
       "  <thead>\n",
       "    <tr style=\"text-align: right;\">\n",
       "      <th></th>\n",
       "      <th>UserID</th>\n",
       "      <th>NumberOfRatings</th>\n",
       "      <th>AverageRating</th>\n",
       "    </tr>\n",
       "  </thead>\n",
       "  <tbody>\n",
       "    <tr>\n",
       "      <th>0</th>\n",
       "      <td>2</td>\n",
       "      <td>1</td>\n",
       "      <td>0.000000</td>\n",
       "    </tr>\n",
       "    <tr>\n",
       "      <th>1</th>\n",
       "      <td>7</td>\n",
       "      <td>1</td>\n",
       "      <td>0.000000</td>\n",
       "    </tr>\n",
       "    <tr>\n",
       "      <th>2</th>\n",
       "      <td>8</td>\n",
       "      <td>18</td>\n",
       "      <td>2.166667</td>\n",
       "    </tr>\n",
       "    <tr>\n",
       "      <th>3</th>\n",
       "      <td>9</td>\n",
       "      <td>3</td>\n",
       "      <td>2.000000</td>\n",
       "    </tr>\n",
       "    <tr>\n",
       "      <th>4</th>\n",
       "      <td>10</td>\n",
       "      <td>2</td>\n",
       "      <td>3.000000</td>\n",
       "    </tr>\n",
       "  </tbody>\n",
       "</table>\n",
       "</div>"
      ],
      "text/plain": [
       "   UserID  NumberOfRatings  AverageRating\n",
       "0       2                1       0.000000\n",
       "1       7                1       0.000000\n",
       "2       8               18       2.166667\n",
       "3       9                3       2.000000\n",
       "4      10                2       3.000000"
      ]
     },
     "execution_count": 19,
     "metadata": {},
     "output_type": "execute_result"
    }
   ],
   "source": [
    "# Let us check if there is a correlation between number of rating and average rating given by a user\n",
    "user_df = ratings.groupby('UserID', as_index=False).agg({'ISBN':'count','Rating':'mean'})\n",
    "user_df.columns = ['UserID', 'NumberOfRatings','AverageRating']\n",
    "user_df.head()"
   ]
  },
  {
   "cell_type": "code",
   "execution_count": 20,
   "metadata": {},
   "outputs": [
    {
     "data": {
      "text/plain": [
       "<matplotlib.text.Text at 0x1a1d5d7f98>"
      ]
     },
     "execution_count": 20,
     "metadata": {},
     "output_type": "execute_result"
    },
    {
     "data": {
      "image/png": "[encoded data removed]",
      "text/plain": [
       "<matplotlib.figure.Figure at 0x1a1b35d9b0>"
      ]
     },
     "metadata": {},
     "output_type": "display_data"
    }
   ],
   "source": [
    "plt.subplots(figsize = (15,8))\n",
    "sns.regplot(x=\"NumberOfRatings\", y=\"AverageRating\", color = 'green', data=user_df).set_title(\"Avg Rating vs. Number of Ratings\")"
   ]
  },
  {
   "cell_type": "markdown",
   "metadata": {},
   "source": [
    "Let us check the users which are extreme points above and have more than 6000 ratings yet not a great average rating."
   ]
  },
  {
   "cell_type": "code",
   "execution_count": 21,
   "metadata": {},
   "outputs": [
    {
     "data": {
      "text/html": [
       "<div>\n",
       "<style>\n",
       "    .dataframe thead tr:only-child th {\n",
       "        text-align: right;\n",
       "    }\n",
       "\n",
       "    .dataframe thead th {\n",
       "        text-align: left;\n",
       "    }\n",
       "\n",
       "    .dataframe tbody tr th {\n",
       "        vertical-align: top;\n",
       "    }\n",
       "</style>\n",
       "<table border=\"1\" class=\"dataframe\">\n",
       "  <thead>\n",
       "    <tr style=\"text-align: right;\">\n",
       "      <th></th>\n",
       "      <th>UserID</th>\n",
       "      <th>Location</th>\n",
       "      <th>Age</th>\n",
       "    </tr>\n",
       "  </thead>\n",
       "  <tbody>\n",
       "    <tr>\n",
       "      <th>11675</th>\n",
       "      <td>11676</td>\n",
       "      <td>n/a, n/a, n/a</td>\n",
       "      <td>NaN</td>\n",
       "    </tr>\n",
       "    <tr>\n",
       "      <th>153661</th>\n",
       "      <td>153662</td>\n",
       "      <td>ft. stewart, georgia, usa</td>\n",
       "      <td>44.0</td>\n",
       "    </tr>\n",
       "    <tr>\n",
       "      <th>198710</th>\n",
       "      <td>198711</td>\n",
       "      <td>little canada, minnesota, usa</td>\n",
       "      <td>62.0</td>\n",
       "    </tr>\n",
       "  </tbody>\n",
       "</table>\n",
       "</div>"
      ],
      "text/plain": [
       "        UserID                       Location   Age\n",
       "11675    11676                  n/a, n/a, n/a   NaN\n",
       "153661  153662      ft. stewart, georgia, usa  44.0\n",
       "198710  198711  little canada, minnesota, usa  62.0"
      ]
     },
     "execution_count": 21,
     "metadata": {},
     "output_type": "execute_result"
    }
   ],
   "source": [
    "# Filtering out the Users and getting info from the Users dataset\n",
    "extrm_user = user_df[(user_df['NumberOfRatings']>6000)]['UserID']\n",
    "users[users['UserID'].isin(extrm_user)]"
   ]
  },
  {
   "cell_type": "markdown",
   "metadata": {},
   "source": [
    "Let us list some of the top 5 users and books (based on mean rating and count of ratings)."
   ]
  },
  {
   "cell_type": "code",
   "execution_count": 22,
   "metadata": {},
   "outputs": [
    {
     "data": {
      "text/html": [
       "<div>\n",
       "<style>\n",
       "    .dataframe thead tr:only-child th {\n",
       "        text-align: right;\n",
       "    }\n",
       "\n",
       "    .dataframe thead th {\n",
       "        text-align: left;\n",
       "    }\n",
       "\n",
       "    .dataframe tbody tr th {\n",
       "        vertical-align: top;\n",
       "    }\n",
       "</style>\n",
       "<table border=\"1\" class=\"dataframe\">\n",
       "  <thead>\n",
       "    <tr style=\"text-align: right;\">\n",
       "      <th></th>\n",
       "      <th>ISBN</th>\n",
       "      <th>NumberOfRatings</th>\n",
       "      <th>AverageRating</th>\n",
       "    </tr>\n",
       "  </thead>\n",
       "  <tbody>\n",
       "    <tr>\n",
       "      <th>88629</th>\n",
       "      <td>0395193958</td>\n",
       "      <td>6</td>\n",
       "      <td>10.0</td>\n",
       "    </tr>\n",
       "    <tr>\n",
       "      <th>7449</th>\n",
       "      <td>0060280034</td>\n",
       "      <td>4</td>\n",
       "      <td>10.0</td>\n",
       "    </tr>\n",
       "    <tr>\n",
       "      <th>13802</th>\n",
       "      <td>006440546X</td>\n",
       "      <td>4</td>\n",
       "      <td>10.0</td>\n",
       "    </tr>\n",
       "    <tr>\n",
       "      <th>84218</th>\n",
       "      <td>0393048470</td>\n",
       "      <td>4</td>\n",
       "      <td>10.0</td>\n",
       "    </tr>\n",
       "    <tr>\n",
       "      <th>97071</th>\n",
       "      <td>0439042445</td>\n",
       "      <td>4</td>\n",
       "      <td>10.0</td>\n",
       "    </tr>\n",
       "  </tbody>\n",
       "</table>\n",
       "</div>"
      ],
      "text/plain": [
       "             ISBN  NumberOfRatings  AverageRating\n",
       "88629  0395193958                6           10.0\n",
       "7449   0060280034                4           10.0\n",
       "13802  006440546X                4           10.0\n",
       "84218  0393048470                4           10.0\n",
       "97071  0439042445                4           10.0"
      ]
     },
     "execution_count": 22,
     "metadata": {},
     "output_type": "execute_result"
    }
   ],
   "source": [
    "# Sort the books with average rating first\n",
    "isbn_df.sort_values(['AverageRating','NumberOfRatings'],ascending=False).head()"
   ]
  },
  {
   "cell_type": "code",
   "execution_count": 23,
   "metadata": {},
   "outputs": [
    {
     "data": {
      "text/html": [
       "<div>\n",
       "<style>\n",
       "    .dataframe thead tr:only-child th {\n",
       "        text-align: right;\n",
       "    }\n",
       "\n",
       "    .dataframe thead th {\n",
       "        text-align: left;\n",
       "    }\n",
       "\n",
       "    .dataframe tbody tr th {\n",
       "        vertical-align: top;\n",
       "    }\n",
       "</style>\n",
       "<table border=\"1\" class=\"dataframe\">\n",
       "  <thead>\n",
       "    <tr style=\"text-align: right;\">\n",
       "      <th></th>\n",
       "      <th>ISBN</th>\n",
       "      <th>NumberOfRatings</th>\n",
       "      <th>AverageRating</th>\n",
       "    </tr>\n",
       "  </thead>\n",
       "  <tbody>\n",
       "    <tr>\n",
       "      <th>247408</th>\n",
       "      <td>0971880107</td>\n",
       "      <td>2502</td>\n",
       "      <td>1.019584</td>\n",
       "    </tr>\n",
       "    <tr>\n",
       "      <th>47371</th>\n",
       "      <td>0316666343</td>\n",
       "      <td>1295</td>\n",
       "      <td>4.468726</td>\n",
       "    </tr>\n",
       "    <tr>\n",
       "      <th>83359</th>\n",
       "      <td>0385504209</td>\n",
       "      <td>883</td>\n",
       "      <td>4.652322</td>\n",
       "    </tr>\n",
       "    <tr>\n",
       "      <th>9637</th>\n",
       "      <td>0060928336</td>\n",
       "      <td>732</td>\n",
       "      <td>3.448087</td>\n",
       "    </tr>\n",
       "    <tr>\n",
       "      <th>41007</th>\n",
       "      <td>0312195516</td>\n",
       "      <td>723</td>\n",
       "      <td>4.334716</td>\n",
       "    </tr>\n",
       "  </tbody>\n",
       "</table>\n",
       "</div>"
      ],
      "text/plain": [
       "              ISBN  NumberOfRatings  AverageRating\n",
       "247408  0971880107             2502       1.019584\n",
       "47371   0316666343             1295       4.468726\n",
       "83359   0385504209              883       4.652322\n",
       "9637    0060928336              732       3.448087\n",
       "41007   0312195516              723       4.334716"
      ]
     },
     "execution_count": 23,
     "metadata": {},
     "output_type": "execute_result"
    }
   ],
   "source": [
    "# Sort the books with number of ratings first\n",
    "isbn_df.sort_values(['NumberOfRatings','AverageRating'],ascending=False).head()"
   ]
  },
  {
   "cell_type": "code",
   "execution_count": 38,
   "metadata": {},
   "outputs": [
    {
     "data": {
      "text/html": [
       "<div>\n",
       "<style>\n",
       "    .dataframe thead tr:only-child th {\n",
       "        text-align: right;\n",
       "    }\n",
       "\n",
       "    .dataframe thead th {\n",
       "        text-align: left;\n",
       "    }\n",
       "\n",
       "    .dataframe tbody tr th {\n",
       "        vertical-align: top;\n",
       "    }\n",
       "</style>\n",
       "<table border=\"1\" class=\"dataframe\">\n",
       "  <thead>\n",
       "    <tr style=\"text-align: right;\">\n",
       "      <th></th>\n",
       "      <th>ISBN</th>\n",
       "      <th>NumberOfRatings</th>\n",
       "      <th>AverageRating</th>\n",
       "      <th>Title</th>\n",
       "      <th>Author</th>\n",
       "      <th>YrOfPublication</th>\n",
       "      <th>Publisher</th>\n",
       "      <th>ImageUrlS</th>\n",
       "      <th>ImageUrlM</th>\n",
       "      <th>ImageUrlL</th>\n",
       "    </tr>\n",
       "  </thead>\n",
       "  <tbody>\n",
       "    <tr>\n",
       "      <th>0</th>\n",
       "      <td>0395193958</td>\n",
       "      <td>6</td>\n",
       "      <td>10.000000</td>\n",
       "      <td>The Lord of the Rings (Leatherette Collector's Edition)</td>\n",
       "      <td>J. R. R. Tolkien</td>\n",
       "      <td>1974</td>\n",
       "      <td>Houghton Mifflin Company</td>\n",
       "      <td>http://images.amazon.com/images/P/0395193958.01.THUMBZZZ.jpg</td>\n",
       "      <td>http://images.amazon.com/images/P/0395193958.01.MZZZZZZZ.jpg</td>\n",
       "      <td>http://images.amazon.com/images/P/0395193958.01.LZZZZZZZ.jpg</td>\n",
       "    </tr>\n",
       "    <tr>\n",
       "      <th>1</th>\n",
       "      <td>0060280034</td>\n",
       "      <td>4</td>\n",
       "      <td>10.000000</td>\n",
       "      <td>Dinotopia: A Land Apart from Time (Dinotopia)</td>\n",
       "      <td>James Gurney</td>\n",
       "      <td>1998</td>\n",
       "      <td>HarperCollins</td>\n",
       "      <td>http://images.amazon.com/images/P/0060280034.01.THUMBZZZ.jpg</td>\n",
       "      <td>http://images.amazon.com/images/P/0060280034.01.MZZZZZZZ.jpg</td>\n",
       "      <td>http://images.amazon.com/images/P/0060280034.01.LZZZZZZZ.jpg</td>\n",
       "    </tr>\n",
       "    <tr>\n",
       "      <th>2</th>\n",
       "      <td>006440546X</td>\n",
       "      <td>4</td>\n",
       "      <td>10.000000</td>\n",
       "      <td>Betsy and Joe (Betsy &amp;amp; Tacy)</td>\n",
       "      <td>Maud Hart Lovelace</td>\n",
       "      <td>1995</td>\n",
       "      <td>HarperTrophy</td>\n",
       "      <td>http://images.amazon.com/images/P/006440546X.01.THUMBZZZ.jpg</td>\n",
       "      <td>http://images.amazon.com/images/P/006440546X.01.MZZZZZZZ.jpg</td>\n",
       "      <td>http://images.amazon.com/images/P/006440546X.01.LZZZZZZZ.jpg</td>\n",
       "    </tr>\n",
       "    <tr>\n",
       "      <th>3</th>\n",
       "      <td>0393048470</td>\n",
       "      <td>4</td>\n",
       "      <td>10.000000</td>\n",
       "      <td>The Annotated Alice: The Definitive Edition</td>\n",
       "      <td>Lewis Carroll</td>\n",
       "      <td>1999</td>\n",
       "      <td>W.W. Norton &amp;amp; Company</td>\n",
       "      <td>http://images.amazon.com/images/P/0393048470.01.THUMBZZZ.jpg</td>\n",
       "      <td>http://images.amazon.com/images/P/0393048470.01.MZZZZZZZ.jpg</td>\n",
       "      <td>http://images.amazon.com/images/P/0393048470.01.LZZZZZZZ.jpg</td>\n",
       "    </tr>\n",
       "    <tr>\n",
       "      <th>4</th>\n",
       "      <td>0439042445</td>\n",
       "      <td>4</td>\n",
       "      <td>10.000000</td>\n",
       "      <td>I Spy Treasure Hunt: A Book of Picture Riddles (I Spy Books)</td>\n",
       "      <td>Walter Wick</td>\n",
       "      <td>1999</td>\n",
       "      <td>Scholastic</td>\n",
       "      <td>http://images.amazon.com/images/P/0439042445.01.THUMBZZZ.jpg</td>\n",
       "      <td>http://images.amazon.com/images/P/0439042445.01.MZZZZZZZ.jpg</td>\n",
       "      <td>http://images.amazon.com/images/P/0439042445.01.LZZZZZZZ.jpg</td>\n",
       "    </tr>\n",
       "    <tr>\n",
       "      <th>5</th>\n",
       "      <td>0971880107</td>\n",
       "      <td>2502</td>\n",
       "      <td>1.019584</td>\n",
       "      <td>Wild Animus</td>\n",
       "      <td>Rich Shapero</td>\n",
       "      <td>2004</td>\n",
       "      <td>Too Far</td>\n",
       "      <td>http://images.amazon.com/images/P/0971880107.01.THUMBZZZ.jpg</td>\n",
       "      <td>http://images.amazon.com/images/P/0971880107.01.MZZZZZZZ.jpg</td>\n",
       "      <td>http://images.amazon.com/images/P/0971880107.01.LZZZZZZZ.jpg</td>\n",
       "    </tr>\n",
       "    <tr>\n",
       "      <th>6</th>\n",
       "      <td>0316666343</td>\n",
       "      <td>1295</td>\n",
       "      <td>4.468726</td>\n",
       "      <td>The Lovely Bones: A Novel</td>\n",
       "      <td>Alice Sebold</td>\n",
       "      <td>2002</td>\n",
       "      <td>Little, Brown</td>\n",
       "      <td>http://images.amazon.com/images/P/0316666343.01.THUMBZZZ.jpg</td>\n",
       "      <td>http://images.amazon.com/images/P/0316666343.01.MZZZZZZZ.jpg</td>\n",
       "      <td>http://images.amazon.com/images/P/0316666343.01.LZZZZZZZ.jpg</td>\n",
       "    </tr>\n",
       "    <tr>\n",
       "      <th>7</th>\n",
       "      <td>0385504209</td>\n",
       "      <td>883</td>\n",
       "      <td>4.652322</td>\n",
       "      <td>The Da Vinci Code</td>\n",
       "      <td>Dan Brown</td>\n",
       "      <td>2003</td>\n",
       "      <td>Doubleday</td>\n",
       "      <td>http://images.amazon.com/images/P/0385504209.01.THUMBZZZ.jpg</td>\n",
       "      <td>http://images.amazon.com/images/P/0385504209.01.MZZZZZZZ.jpg</td>\n",
       "      <td>http://images.amazon.com/images/P/0385504209.01.LZZZZZZZ.jpg</td>\n",
       "    </tr>\n",
       "    <tr>\n",
       "      <th>8</th>\n",
       "      <td>0060928336</td>\n",
       "      <td>732</td>\n",
       "      <td>3.448087</td>\n",
       "      <td>Divine Secrets of the Ya-Ya Sisterhood: A Novel</td>\n",
       "      <td>Rebecca Wells</td>\n",
       "      <td>1997</td>\n",
       "      <td>Perennial</td>\n",
       "      <td>http://images.amazon.com/images/P/0060928336.01.THUMBZZZ.jpg</td>\n",
       "      <td>http://images.amazon.com/images/P/0060928336.01.MZZZZZZZ.jpg</td>\n",
       "      <td>http://images.amazon.com/images/P/0060928336.01.LZZZZZZZ.jpg</td>\n",
       "    </tr>\n",
       "    <tr>\n",
       "      <th>9</th>\n",
       "      <td>0312195516</td>\n",
       "      <td>723</td>\n",
       "      <td>4.334716</td>\n",
       "      <td>The Red Tent (Bestselling Backlist)</td>\n",
       "      <td>Anita Diamant</td>\n",
       "      <td>1998</td>\n",
       "      <td>Picador USA</td>\n",
       "      <td>http://images.amazon.com/images/P/0312195516.01.THUMBZZZ.jpg</td>\n",
       "      <td>http://images.amazon.com/images/P/0312195516.01.MZZZZZZZ.jpg</td>\n",
       "      <td>http://images.amazon.com/images/P/0312195516.01.LZZZZZZZ.jpg</td>\n",
       "    </tr>\n",
       "  </tbody>\n",
       "</table>\n",
       "</div>"
      ],
      "text/plain": [
       "         ISBN  NumberOfRatings  AverageRating  \\\n",
       "0  0395193958  6                10.000000       \n",
       "1  0060280034  4                10.000000       \n",
       "2  006440546X  4                10.000000       \n",
       "3  0393048470  4                10.000000       \n",
       "4  0439042445  4                10.000000       \n",
       "5  0971880107  2502             1.019584        \n",
       "6  0316666343  1295             4.468726        \n",
       "7  0385504209  883              4.652322        \n",
       "8  0060928336  732              3.448087        \n",
       "9  0312195516  723              4.334716        \n",
       "\n",
       "                                                          Title  \\\n",
       "0  The Lord of the Rings (Leatherette Collector's Edition)        \n",
       "1  Dinotopia: A Land Apart from Time (Dinotopia)                  \n",
       "2  Betsy and Joe (Betsy &amp; Tacy)                               \n",
       "3  The Annotated Alice: The Definitive Edition                    \n",
       "4  I Spy Treasure Hunt: A Book of Picture Riddles (I Spy Books)   \n",
       "5  Wild Animus                                                    \n",
       "6  The Lovely Bones: A Novel                                      \n",
       "7  The Da Vinci Code                                              \n",
       "8  Divine Secrets of the Ya-Ya Sisterhood: A Novel                \n",
       "9  The Red Tent (Bestselling Backlist)                            \n",
       "\n",
       "               Author YrOfPublication                  Publisher  \\\n",
       "0  J. R. R. Tolkien    1974            Houghton Mifflin Company    \n",
       "1  James Gurney        1998            HarperCollins               \n",
       "2  Maud Hart Lovelace  1995            HarperTrophy                \n",
       "3  Lewis Carroll       1999            W.W. Norton &amp; Company   \n",
       "4  Walter Wick         1999            Scholastic                  \n",
       "5  Rich Shapero        2004            Too Far                     \n",
       "6  Alice Sebold        2002            Little, Brown               \n",
       "7  Dan Brown           2003            Doubleday                   \n",
       "8  Rebecca Wells       1997            Perennial                   \n",
       "9  Anita Diamant       1998            Picador USA                 \n",
       "\n",
       "                                                      ImageUrlS  \\\n",
       "0  http://images.amazon.com/images/P/0395193958.01.THUMBZZZ.jpg   \n",
       "1  http://images.amazon.com/images/P/0060280034.01.THUMBZZZ.jpg   \n",
       "2  http://images.amazon.com/images/P/006440546X.01.THUMBZZZ.jpg   \n",
       "3  http://images.amazon.com/images/P/0393048470.01.THUMBZZZ.jpg   \n",
       "4  http://images.amazon.com/images/P/0439042445.01.THUMBZZZ.jpg   \n",
       "5  http://images.amazon.com/images/P/0971880107.01.THUMBZZZ.jpg   \n",
       "6  http://images.amazon.com/images/P/0316666343.01.THUMBZZZ.jpg   \n",
       "7  http://images.amazon.com/images/P/0385504209.01.THUMBZZZ.jpg   \n",
       "8  http://images.amazon.com/images/P/0060928336.01.THUMBZZZ.jpg   \n",
       "9  http://images.amazon.com/images/P/0312195516.01.THUMBZZZ.jpg   \n",
       "\n",
       "                                                      ImageUrlM  \\\n",
       "0  http://images.amazon.com/images/P/0395193958.01.MZZZZZZZ.jpg   \n",
       "1  http://images.amazon.com/images/P/0060280034.01.MZZZZZZZ.jpg   \n",
       "2  http://images.amazon.com/images/P/006440546X.01.MZZZZZZZ.jpg   \n",
       "3  http://images.amazon.com/images/P/0393048470.01.MZZZZZZZ.jpg   \n",
       "4  http://images.amazon.com/images/P/0439042445.01.MZZZZZZZ.jpg   \n",
       "5  http://images.amazon.com/images/P/0971880107.01.MZZZZZZZ.jpg   \n",
       "6  http://images.amazon.com/images/P/0316666343.01.MZZZZZZZ.jpg   \n",
       "7  http://images.amazon.com/images/P/0385504209.01.MZZZZZZZ.jpg   \n",
       "8  http://images.amazon.com/images/P/0060928336.01.MZZZZZZZ.jpg   \n",
       "9  http://images.amazon.com/images/P/0312195516.01.MZZZZZZZ.jpg   \n",
       "\n",
       "                                                      ImageUrlL  \n",
       "0  http://images.amazon.com/images/P/0395193958.01.LZZZZZZZ.jpg  \n",
       "1  http://images.amazon.com/images/P/0060280034.01.LZZZZZZZ.jpg  \n",
       "2  http://images.amazon.com/images/P/006440546X.01.LZZZZZZZ.jpg  \n",
       "3  http://images.amazon.com/images/P/0393048470.01.LZZZZZZZ.jpg  \n",
       "4  http://images.amazon.com/images/P/0439042445.01.LZZZZZZZ.jpg  \n",
       "5  http://images.amazon.com/images/P/0971880107.01.LZZZZZZZ.jpg  \n",
       "6  http://images.amazon.com/images/P/0316666343.01.LZZZZZZZ.jpg  \n",
       "7  http://images.amazon.com/images/P/0385504209.01.LZZZZZZZ.jpg  \n",
       "8  http://images.amazon.com/images/P/0060928336.01.LZZZZZZZ.jpg  \n",
       "9  http://images.amazon.com/images/P/0312195516.01.LZZZZZZZ.jpg  "
      ]
     },
     "execution_count": 38,
     "metadata": {},
     "output_type": "execute_result"
    }
   ],
   "source": [
    "# Append and get the info from the books dataset\n",
    "top_books = isbn_df.sort_values(['AverageRating','NumberOfRatings'],ascending=False).head().append(isbn_df.sort_values(['NumberOfRatings','AverageRating'],ascending=False).head())\n",
    "top_books.merge(books, how=\"left\", on=\"ISBN\")"
   ]
  },
  {
   "cell_type": "code",
   "execution_count": 26,
   "metadata": {},
   "outputs": [
    {
     "data": {
      "text/html": [
       "<div>\n",
       "<style>\n",
       "    .dataframe thead tr:only-child th {\n",
       "        text-align: right;\n",
       "    }\n",
       "\n",
       "    .dataframe thead th {\n",
       "        text-align: left;\n",
       "    }\n",
       "\n",
       "    .dataframe tbody tr th {\n",
       "        vertical-align: top;\n",
       "    }\n",
       "</style>\n",
       "<table border=\"1\" class=\"dataframe\">\n",
       "  <thead>\n",
       "    <tr style=\"text-align: right;\">\n",
       "      <th></th>\n",
       "      <th>UserID</th>\n",
       "      <th>NumberOfRatings</th>\n",
       "      <th>AverageRating</th>\n",
       "    </tr>\n",
       "  </thead>\n",
       "  <tbody>\n",
       "    <tr>\n",
       "      <th>29667</th>\n",
       "      <td>78469</td>\n",
       "      <td>18</td>\n",
       "      <td>10.0</td>\n",
       "    </tr>\n",
       "    <tr>\n",
       "      <th>97043</th>\n",
       "      <td>256765</td>\n",
       "      <td>16</td>\n",
       "      <td>10.0</td>\n",
       "    </tr>\n",
       "    <tr>\n",
       "      <th>32693</th>\n",
       "      <td>86263</td>\n",
       "      <td>12</td>\n",
       "      <td>10.0</td>\n",
       "    </tr>\n",
       "    <tr>\n",
       "      <th>95540</th>\n",
       "      <td>252829</td>\n",
       "      <td>10</td>\n",
       "      <td>10.0</td>\n",
       "    </tr>\n",
       "    <tr>\n",
       "      <th>90461</th>\n",
       "      <td>239873</td>\n",
       "      <td>9</td>\n",
       "      <td>10.0</td>\n",
       "    </tr>\n",
       "  </tbody>\n",
       "</table>\n",
       "</div>"
      ],
      "text/plain": [
       "       UserID  NumberOfRatings  AverageRating\n",
       "29667   78469               18           10.0\n",
       "97043  256765               16           10.0\n",
       "32693   86263               12           10.0\n",
       "95540  252829               10           10.0\n",
       "90461  239873                9           10.0"
      ]
     },
     "execution_count": 26,
     "metadata": {},
     "output_type": "execute_result"
    }
   ],
   "source": [
    "# Sort the users with average rating first\n",
    "user_df.sort_values(['AverageRating','NumberOfRatings'],ascending=False).head()"
   ]
  },
  {
   "cell_type": "code",
   "execution_count": 27,
   "metadata": {},
   "outputs": [
    {
     "data": {
      "text/html": [
       "<div>\n",
       "<style>\n",
       "    .dataframe thead tr:only-child th {\n",
       "        text-align: right;\n",
       "    }\n",
       "\n",
       "    .dataframe thead th {\n",
       "        text-align: left;\n",
       "    }\n",
       "\n",
       "    .dataframe tbody tr th {\n",
       "        vertical-align: top;\n",
       "    }\n",
       "</style>\n",
       "<table border=\"1\" class=\"dataframe\">\n",
       "  <thead>\n",
       "    <tr style=\"text-align: right;\">\n",
       "      <th></th>\n",
       "      <th>UserID</th>\n",
       "      <th>NumberOfRatings</th>\n",
       "      <th>AverageRating</th>\n",
       "    </tr>\n",
       "  </thead>\n",
       "  <tbody>\n",
       "    <tr>\n",
       "      <th>4213</th>\n",
       "      <td>11676</td>\n",
       "      <td>13602</td>\n",
       "      <td>4.564917</td>\n",
       "    </tr>\n",
       "    <tr>\n",
       "      <th>74815</th>\n",
       "      <td>198711</td>\n",
       "      <td>7550</td>\n",
       "      <td>0.016291</td>\n",
       "    </tr>\n",
       "    <tr>\n",
       "      <th>58113</th>\n",
       "      <td>153662</td>\n",
       "      <td>6109</td>\n",
       "      <td>2.786872</td>\n",
       "    </tr>\n",
       "    <tr>\n",
       "      <th>37356</th>\n",
       "      <td>98391</td>\n",
       "      <td>5891</td>\n",
       "      <td>8.728230</td>\n",
       "    </tr>\n",
       "    <tr>\n",
       "      <th>13576</th>\n",
       "      <td>35859</td>\n",
       "      <td>5850</td>\n",
       "      <td>1.075897</td>\n",
       "    </tr>\n",
       "  </tbody>\n",
       "</table>\n",
       "</div>"
      ],
      "text/plain": [
       "       UserID  NumberOfRatings  AverageRating\n",
       "4213    11676            13602       4.564917\n",
       "74815  198711             7550       0.016291\n",
       "58113  153662             6109       2.786872\n",
       "37356   98391             5891       8.728230\n",
       "13576   35859             5850       1.075897"
      ]
     },
     "execution_count": 27,
     "metadata": {},
     "output_type": "execute_result"
    }
   ],
   "source": [
    "# Sort the users with number of ratings first\n",
    "user_df.sort_values(['NumberOfRatings','AverageRating'],ascending=False).head()"
   ]
  },
  {
   "cell_type": "code",
   "execution_count": 28,
   "metadata": {},
   "outputs": [
    {
     "data": {
      "text/html": [
       "<div>\n",
       "<style>\n",
       "    .dataframe thead tr:only-child th {\n",
       "        text-align: right;\n",
       "    }\n",
       "\n",
       "    .dataframe thead th {\n",
       "        text-align: left;\n",
       "    }\n",
       "\n",
       "    .dataframe tbody tr th {\n",
       "        vertical-align: top;\n",
       "    }\n",
       "</style>\n",
       "<table border=\"1\" class=\"dataframe\">\n",
       "  <thead>\n",
       "    <tr style=\"text-align: right;\">\n",
       "      <th></th>\n",
       "      <th>UserID</th>\n",
       "      <th>NumberOfRatings</th>\n",
       "      <th>AverageRating</th>\n",
       "      <th>Location</th>\n",
       "      <th>Age</th>\n",
       "    </tr>\n",
       "  </thead>\n",
       "  <tbody>\n",
       "    <tr>\n",
       "      <th>0</th>\n",
       "      <td>78469</td>\n",
       "      <td>18</td>\n",
       "      <td>10.000000</td>\n",
       "      <td>centerville, georgia, usa</td>\n",
       "      <td>NaN</td>\n",
       "    </tr>\n",
       "    <tr>\n",
       "      <th>1</th>\n",
       "      <td>256765</td>\n",
       "      <td>16</td>\n",
       "      <td>10.000000</td>\n",
       "      <td>n/a, n/a, usa</td>\n",
       "      <td>NaN</td>\n",
       "    </tr>\n",
       "    <tr>\n",
       "      <th>2</th>\n",
       "      <td>86263</td>\n",
       "      <td>12</td>\n",
       "      <td>10.000000</td>\n",
       "      <td>rensselaer, new york, usa</td>\n",
       "      <td>NaN</td>\n",
       "    </tr>\n",
       "    <tr>\n",
       "      <th>3</th>\n",
       "      <td>252829</td>\n",
       "      <td>10</td>\n",
       "      <td>10.000000</td>\n",
       "      <td>sierra vista, arizona, usa</td>\n",
       "      <td>18.0</td>\n",
       "    </tr>\n",
       "    <tr>\n",
       "      <th>4</th>\n",
       "      <td>239873</td>\n",
       "      <td>9</td>\n",
       "      <td>10.000000</td>\n",
       "      <td>san jose, california, usa</td>\n",
       "      <td>NaN</td>\n",
       "    </tr>\n",
       "    <tr>\n",
       "      <th>5</th>\n",
       "      <td>11676</td>\n",
       "      <td>13602</td>\n",
       "      <td>4.564917</td>\n",
       "      <td>n/a, n/a, n/a</td>\n",
       "      <td>NaN</td>\n",
       "    </tr>\n",
       "    <tr>\n",
       "      <th>6</th>\n",
       "      <td>198711</td>\n",
       "      <td>7550</td>\n",
       "      <td>0.016291</td>\n",
       "      <td>little canada, minnesota, usa</td>\n",
       "      <td>62.0</td>\n",
       "    </tr>\n",
       "    <tr>\n",
       "      <th>7</th>\n",
       "      <td>153662</td>\n",
       "      <td>6109</td>\n",
       "      <td>2.786872</td>\n",
       "      <td>ft. stewart, georgia, usa</td>\n",
       "      <td>44.0</td>\n",
       "    </tr>\n",
       "    <tr>\n",
       "      <th>8</th>\n",
       "      <td>98391</td>\n",
       "      <td>5891</td>\n",
       "      <td>8.728230</td>\n",
       "      <td>morrow, georgia, usa</td>\n",
       "      <td>52.0</td>\n",
       "    </tr>\n",
       "    <tr>\n",
       "      <th>9</th>\n",
       "      <td>35859</td>\n",
       "      <td>5850</td>\n",
       "      <td>1.075897</td>\n",
       "      <td>duluth, minnesota, usa</td>\n",
       "      <td>NaN</td>\n",
       "    </tr>\n",
       "  </tbody>\n",
       "</table>\n",
       "</div>"
      ],
      "text/plain": [
       "   UserID  NumberOfRatings  AverageRating                       Location   Age\n",
       "0   78469               18      10.000000      centerville, georgia, usa   NaN\n",
       "1  256765               16      10.000000                  n/a, n/a, usa   NaN\n",
       "2   86263               12      10.000000      rensselaer, new york, usa   NaN\n",
       "3  252829               10      10.000000     sierra vista, arizona, usa  18.0\n",
       "4  239873                9      10.000000      san jose, california, usa   NaN\n",
       "5   11676            13602       4.564917                  n/a, n/a, n/a   NaN\n",
       "6  198711             7550       0.016291  little canada, minnesota, usa  62.0\n",
       "7  153662             6109       2.786872      ft. stewart, georgia, usa  44.0\n",
       "8   98391             5891       8.728230           morrow, georgia, usa  52.0\n",
       "9   35859             5850       1.075897         duluth, minnesota, usa   NaN"
      ]
     },
     "execution_count": 28,
     "metadata": {},
     "output_type": "execute_result"
    }
   ],
   "source": [
    "# Append and get the info from the users dataset\n",
    "top_users = user_df.sort_values(['AverageRating','NumberOfRatings'],ascending=False).head().append(user_df.sort_values(['NumberOfRatings','AverageRating'],ascending=False).head())\n",
    "top_users.merge(users, how=\"left\", on=\"UserID\")"
   ]
  },
  {
   "cell_type": "markdown",
   "metadata": {},
   "source": [
    "### Building the Recommender system"
   ]
  },
  {
   "cell_type": "markdown",
   "metadata": {},
   "source": [
    "Let us build a simple recommender system using SVD algorithm. But we will filter the dataset to check the performance of the algorithm and then later train it on the entire dataset."
   ]
  },
  {
   "cell_type": "code",
   "execution_count": 69,
   "metadata": {},
   "outputs": [
    {
     "name": "stderr",
     "output_type": "stream",
     "text": [
      "/anaconda/lib/python3.6/site-packages/surprise/evaluate.py:66: UserWarning: The evaluate() method is deprecated. Please use model_selection.cross_validate() instead.\n",
      "  'model_selection.cross_validate() instead.', UserWarning)\n",
      "/anaconda/lib/python3.6/site-packages/surprise/dataset.py:193: UserWarning: Using data.split() or using load_from_folds() without using a CV iterator is now deprecated. \n",
      "  UserWarning)\n"
     ]
    },
    {
     "name": "stdout",
     "output_type": "stream",
     "text": [
      "Evaluating RMSE, MAE of algorithm SVD.\n",
      "\n",
      "------------\n",
      "Fold 1\n",
      "RMSE: 3.1844\n",
      "MAE:  2.7645\n",
      "------------\n",
      "Fold 2\n",
      "RMSE: 3.1889\n",
      "MAE:  2.7701\n",
      "------------\n",
      "Fold 3\n",
      "RMSE: 3.1913\n",
      "MAE:  2.7707\n",
      "------------\n",
      "------------\n",
      "Mean RMSE: 3.1882\n",
      "Mean MAE : 2.7685\n",
      "------------\n",
      "------------\n"
     ]
    },
    {
     "data": {
      "text/plain": [
       "CaseInsensitiveDefaultDict(list,\n",
       "                           {'mae': [2.7645414199578529,\n",
       "                             2.7701079949647904,\n",
       "                             2.7707219497612257],\n",
       "                            'rmse': [3.184447207545551,\n",
       "                             3.1888861897693426,\n",
       "                             3.1912767387375229]})"
      ]
     },
     "execution_count": 69,
     "metadata": {},
     "output_type": "execute_result"
    }
   ],
   "source": [
    "# Loading the dataset into surprise\n",
    "reader = Reader()\n",
    "\n",
    "data = Dataset.load_from_df(ratings[['UserID', 'ISBN', 'Rating']][ratings['Rating']>0], reader)\n",
    "data.split(n_folds=3)\n",
    "\n",
    "# Applying the SVD algorithm\n",
    "svd = SVD()\n",
    "evaluate(svd, data, measures=['RMSE', 'MAE'])"
   ]
  },
  {
   "cell_type": "code",
   "execution_count": 66,
   "metadata": {},
   "outputs": [
    {
     "name": "stdout",
     "output_type": "stream",
     "text": [
      "user: 22222      item: 111111     r_ui = 8.00   est = 5.00   {'was_impossible': False}\n"
     ]
    }
   ],
   "source": [
    "# Train the model\n",
    "trainset = data.build_full_trainset()\n",
    "svd.fit(trainset)\n",
    "\n",
    "# Predict the rating for a particular user and book\n",
    "UserID = str(22222)\n",
    "ISBN = str(111111)\n",
    "Rating = 8\n",
    "print(svd.predict(UserID, ISBN, Rating))"
   ]
  },
  {
   "cell_type": "markdown",
   "metadata": {},
   "source": [
    "Let's see what a particular user liked in the past."
   ]
  },
  {
   "cell_type": "code",
   "execution_count": 67,
   "metadata": {},
   "outputs": [
    {
     "name": "stdout",
     "output_type": "stream",
     "text": [
      "   UserID        ISBN  Rating  \\\n",
      "0  278221  0316031038      10   \n",
      "1  278221  0316031046      10   \n",
      "2  278221  0316031054      10   \n",
      "3  278221  0316779032      10   \n",
      "4  278221  0316779075      10   \n",
      "5  278221  0671027441      10   \n",
      "6  278221  0871237954      10   \n",
      "7  278221  1556612257      10   \n",
      "8  278221  1589196635      10   \n",
      "9  278221  1889613010      10   \n",
      "\n",
      "                                               Title             Author  \n",
      "0            Jo's Boys : From the Original Publisher  Louisa May Alcott  \n",
      "1                                         Little Men  Louisa May Alcott  \n",
      "2         Little Women : From the Original Publisher  Louisa May Alcott  \n",
      "3  The Discipline Book: How to Have a Better-Beha...             Martha  \n",
      "4  The Birth Book : Everything You Need to Know t...       Martha Sears  \n",
      "5  Natural Family Living : The Mothering Magazine...       Peggy O'Mara  \n",
      "6      When Comes the Spring (Canadian West, Book 2)        Janette Oke  \n",
      "7          A Woman Named Damaris (Women of the West)        Janette Oke  \n",
      "8  Kate's Choice: What Love Can Do ; Gwen's Adven...  Louisa May Alcott  \n",
      "9                         Organon of the Medical Art   Samuel Hahnemann  \n"
     ]
    }
   ],
   "source": [
    "df = ratings[(ratings['UserID'] == 278221) & (ratings['Rating'] == 10)]\n",
    "df = df.merge(books[['ISBN','Title','Author']], how=\"left\", on=\"ISBN\")\n",
    "print(df)\n",
    "df = df.set_index('ISBN')"
   ]
  },
  {
   "cell_type": "markdown",
   "metadata": {},
   "source": [
    "Let us predict which books user 278221 would like to read in future."
   ]
  },
  {
   "cell_type": "code",
   "execution_count": 68,
   "metadata": {},
   "outputs": [
    {
     "name": "stdout",
     "output_type": "stream",
     "text": [
      "         index                                              Title  \\\n",
      "181149  181149                                     SATELLITE DOWN   \n",
      "86612    86612                                Dancing in the Dark   \n",
      "86609    86609                            CLOUD CHAMBER : A Novel   \n",
      "244153  244153              The Frog Prince (Fairy Tale Classics)   \n",
      "244155  244155  Return of the Ninja (Choose Your Own Adventure...   \n",
      "86605    86605                             Despistes y franquezas   \n",
      "86604    86604                 La Vida Sexual de Catherine Millet   \n",
      "86601    86601                                           Tombuctu   \n",
      "86599    86599  Isla Africa (Biblioteca Breve (Barcelona, Spai...   \n",
      "86598    86598                       LA Isla Del Fin De LA Suerte   \n",
      "\n",
      "                       Author YrOfPublication  \\\n",
      "181149             Rob Thomas            1998   \n",
      "86612   Rosalie Ferrer Kramer            2001   \n",
      "86609          Michael Dorris            1997   \n",
      "244153         Brothers Grimm            1980   \n",
      "244155            Jay Leibold            1995   \n",
      "86605         MARIO BENEDETTI            2002   \n",
      "86604        Catherine Millet            2002   \n",
      "86601             Paul Auster            1999   \n",
      "86599              Ramon Lobo            2002   \n",
      "86598           Lorenzo Silva            2002   \n",
      "\n",
      "                                         Publisher  \\\n",
      "181149  Simon &amp; Schuster Children's Publishing   \n",
      "86612                               Publishamerica   \n",
      "86609                                     Scribner   \n",
      "244153                        Troll Communications   \n",
      "244155                               Skylark Books   \n",
      "86605                                 Sudamericana   \n",
      "86604                                     Anagrama   \n",
      "86601                                     Anagrama   \n",
      "86599                        Editorial Seix Barral   \n",
      "86598                            Destino Ediciones   \n",
      "\n",
      "                                                ImageUrlS  \\\n",
      "181149  http://images.amazon.com/images/P/0689809573.0...   \n",
      "86612   http://images.amazon.com/images/P/1588515168.0...   \n",
      "86609   http://images.amazon.com/images/P/0684815672.0...   \n",
      "244153  http://images.amazon.com/images/P/0893751049.0...   \n",
      "244155  http://images.amazon.com/images/P/0553279688.0...   \n",
      "86605   http://images.amazon.com/images/P/1400000408.0...   \n",
      "86604   http://images.amazon.com/images/P/8433969528.0...   \n",
      "86601   http://images.amazon.com/images/P/8433968963.0...   \n",
      "86599   http://images.amazon.com/images/P/8432211036.0...   \n",
      "86598   http://images.amazon.com/images/P/8423333280.0...   \n",
      "\n",
      "                                                ImageUrlM  \\\n",
      "181149  http://images.amazon.com/images/P/0689809573.0...   \n",
      "86612   http://images.amazon.com/images/P/1588515168.0...   \n",
      "86609   http://images.amazon.com/images/P/0684815672.0...   \n",
      "244153  http://images.amazon.com/images/P/0893751049.0...   \n",
      "244155  http://images.amazon.com/images/P/0553279688.0...   \n",
      "86605   http://images.amazon.com/images/P/1400000408.0...   \n",
      "86604   http://images.amazon.com/images/P/8433969528.0...   \n",
      "86601   http://images.amazon.com/images/P/8433968963.0...   \n",
      "86599   http://images.amazon.com/images/P/8432211036.0...   \n",
      "86598   http://images.amazon.com/images/P/8423333280.0...   \n",
      "\n",
      "                                                ImageUrlL  Estimate_Score  \n",
      "181149  http://images.amazon.com/images/P/0689809573.0...             5.0  \n",
      "86612   http://images.amazon.com/images/P/1588515168.0...             5.0  \n",
      "86609   http://images.amazon.com/images/P/0684815672.0...             5.0  \n",
      "244153  http://images.amazon.com/images/P/0893751049.0...             5.0  \n",
      "244155  http://images.amazon.com/images/P/0553279688.0...             5.0  \n",
      "86605   http://images.amazon.com/images/P/1400000408.0...             5.0  \n",
      "86604   http://images.amazon.com/images/P/8433969528.0...             5.0  \n",
      "86601   http://images.amazon.com/images/P/8433968963.0...             5.0  \n",
      "86599   http://images.amazon.com/images/P/8432211036.0...             5.0  \n",
      "86598   http://images.amazon.com/images/P/8423333280.0...             5.0  \n"
     ]
    }
   ],
   "source": [
    "user_p = books.copy()\n",
    "user_p = user_p.reset_index()\n",
    "\n",
    "# getting full dataset\n",
    "data = Dataset.load_from_df(ratings, reader)\n",
    "trainset = data.build_full_trainset()\n",
    "svd.fit(trainset)\n",
    "\n",
    "user_p['Estimate_Score'] = user_p['ISBN'].apply(lambda x: svd.predict(278221, x).est)\n",
    "\n",
    "user_p = user_p.drop('ISBN', axis = 1)\n",
    "\n",
    "user_p = user_p.sort_values('Estimate_Score', ascending=False)\n",
    "\n",
    "print(user_p.head(10))"
   ]
  },
  {
   "cell_type": "markdown",
   "metadata": {},
   "source": []
  }
 ],
 "metadata": {
  "kernelspec": {
   "display_name": "Python 3",
   "language": "python",
   "name": "python3"
  },
  "language_info": {
   "codemirror_mode": {
    "name": "ipython",
    "version": 3
   },
   "file_extension": ".py",
   "mimetype": "text/x-python",
   "name": "python",
   "nbconvert_exporter": "python",
   "pygments_lexer": "ipython3",
   "version": "3.6.1"
  },
  "toc": {
   "nav_menu": {},
   "number_sections": true,
   "sideBar": true,
   "skip_h1_title": true,
   "title_cell": "Table of Contents",
   "title_sidebar": "Contents",
   "toc_cell": true,
   "toc_position": {
    "height": "calc(100% - 180px)",
    "left": "10px",
    "top": "150px",
    "width": "165px"
   },
   "toc_section_display": true,
   "toc_window_display": true
  }
 },
 "nbformat": 4,
 "nbformat_minor": 2
}
